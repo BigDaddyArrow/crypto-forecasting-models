{
 "cells": [
  {
   "cell_type": "code",
   "execution_count": 1,
   "metadata": {},
   "outputs": [],
   "source": [
    "import matplotlib.pyplot as plt\n",
    "import pandas as pd"
   ]
  },
  {
   "cell_type": "code",
   "execution_count": 2,
   "outputs": [],
   "source": [
    "data_folder = './g-research-crypto-forecasting/'"
   ],
   "metadata": {
    "collapsed": false,
    "pycharm": {
     "name": "#%%\n"
    }
   }
  },
  {
   "cell_type": "code",
   "execution_count": 3,
   "outputs": [
    {
     "data": {
      "text/plain": "           timestamp  Asset_ID  Count          Open          High  \\\n0         1514764860         2   40.0   2376.580000   2399.500000   \n1         1514764860         0    5.0      8.530000      8.530000   \n2         1514764860         1  229.0  13835.194000  14013.800000   \n3         1514764860         5   32.0      7.659600      7.659600   \n4         1514764860         7    5.0     25.920000     25.920000   \n...              ...       ...    ...           ...           ...   \n24236801  1632182400         9  775.0    157.181571    157.250000   \n24236802  1632182400        10   34.0   2437.065067   2438.000000   \n24236803  1632182400        13  380.0      0.091390      0.091527   \n24236804  1632182400        12  177.0      0.282168      0.282438   \n24236805  1632182400        11   48.0    232.695000    232.800000   \n\n                   Low         Close        Volume          VWAP    Target  \n0          2357.140000   2374.590000  1.923301e+01   2373.116392 -0.004218  \n1             8.530000      8.530000  7.838000e+01      8.530000 -0.014399  \n2         13666.110000  13850.176000  3.155006e+01  13827.062093 -0.014643  \n3             7.656700      7.657600  6.626713e+03      7.657713 -0.013922  \n4            25.874000     25.877000  1.210873e+02     25.891363 -0.008264  \n...                ...           ...           ...           ...       ...  \n24236801    156.700000    156.943857  4.663725e+03    156.994319       NaN  \n24236802   2430.226900   2432.907467  3.975460e+00   2434.818747       NaN  \n24236803      0.091260      0.091349  2.193732e+06      0.091388       NaN  \n24236804      0.281842      0.282051  1.828508e+05      0.282134       NaN  \n24236805    232.240000    232.275000  1.035123e+02    232.569697       NaN  \n\n[24236806 rows x 10 columns]",
      "text/html": "<div>\n<style scoped>\n    .dataframe tbody tr th:only-of-type {\n        vertical-align: middle;\n    }\n\n    .dataframe tbody tr th {\n        vertical-align: top;\n    }\n\n    .dataframe thead th {\n        text-align: right;\n    }\n</style>\n<table border=\"1\" class=\"dataframe\">\n  <thead>\n    <tr style=\"text-align: right;\">\n      <th></th>\n      <th>timestamp</th>\n      <th>Asset_ID</th>\n      <th>Count</th>\n      <th>Open</th>\n      <th>High</th>\n      <th>Low</th>\n      <th>Close</th>\n      <th>Volume</th>\n      <th>VWAP</th>\n      <th>Target</th>\n    </tr>\n  </thead>\n  <tbody>\n    <tr>\n      <th>0</th>\n      <td>1514764860</td>\n      <td>2</td>\n      <td>40.0</td>\n      <td>2376.580000</td>\n      <td>2399.500000</td>\n      <td>2357.140000</td>\n      <td>2374.590000</td>\n      <td>1.923301e+01</td>\n      <td>2373.116392</td>\n      <td>-0.004218</td>\n    </tr>\n    <tr>\n      <th>1</th>\n      <td>1514764860</td>\n      <td>0</td>\n      <td>5.0</td>\n      <td>8.530000</td>\n      <td>8.530000</td>\n      <td>8.530000</td>\n      <td>8.530000</td>\n      <td>7.838000e+01</td>\n      <td>8.530000</td>\n      <td>-0.014399</td>\n    </tr>\n    <tr>\n      <th>2</th>\n      <td>1514764860</td>\n      <td>1</td>\n      <td>229.0</td>\n      <td>13835.194000</td>\n      <td>14013.800000</td>\n      <td>13666.110000</td>\n      <td>13850.176000</td>\n      <td>3.155006e+01</td>\n      <td>13827.062093</td>\n      <td>-0.014643</td>\n    </tr>\n    <tr>\n      <th>3</th>\n      <td>1514764860</td>\n      <td>5</td>\n      <td>32.0</td>\n      <td>7.659600</td>\n      <td>7.659600</td>\n      <td>7.656700</td>\n      <td>7.657600</td>\n      <td>6.626713e+03</td>\n      <td>7.657713</td>\n      <td>-0.013922</td>\n    </tr>\n    <tr>\n      <th>4</th>\n      <td>1514764860</td>\n      <td>7</td>\n      <td>5.0</td>\n      <td>25.920000</td>\n      <td>25.920000</td>\n      <td>25.874000</td>\n      <td>25.877000</td>\n      <td>1.210873e+02</td>\n      <td>25.891363</td>\n      <td>-0.008264</td>\n    </tr>\n    <tr>\n      <th>...</th>\n      <td>...</td>\n      <td>...</td>\n      <td>...</td>\n      <td>...</td>\n      <td>...</td>\n      <td>...</td>\n      <td>...</td>\n      <td>...</td>\n      <td>...</td>\n      <td>...</td>\n    </tr>\n    <tr>\n      <th>24236801</th>\n      <td>1632182400</td>\n      <td>9</td>\n      <td>775.0</td>\n      <td>157.181571</td>\n      <td>157.250000</td>\n      <td>156.700000</td>\n      <td>156.943857</td>\n      <td>4.663725e+03</td>\n      <td>156.994319</td>\n      <td>NaN</td>\n    </tr>\n    <tr>\n      <th>24236802</th>\n      <td>1632182400</td>\n      <td>10</td>\n      <td>34.0</td>\n      <td>2437.065067</td>\n      <td>2438.000000</td>\n      <td>2430.226900</td>\n      <td>2432.907467</td>\n      <td>3.975460e+00</td>\n      <td>2434.818747</td>\n      <td>NaN</td>\n    </tr>\n    <tr>\n      <th>24236803</th>\n      <td>1632182400</td>\n      <td>13</td>\n      <td>380.0</td>\n      <td>0.091390</td>\n      <td>0.091527</td>\n      <td>0.091260</td>\n      <td>0.091349</td>\n      <td>2.193732e+06</td>\n      <td>0.091388</td>\n      <td>NaN</td>\n    </tr>\n    <tr>\n      <th>24236804</th>\n      <td>1632182400</td>\n      <td>12</td>\n      <td>177.0</td>\n      <td>0.282168</td>\n      <td>0.282438</td>\n      <td>0.281842</td>\n      <td>0.282051</td>\n      <td>1.828508e+05</td>\n      <td>0.282134</td>\n      <td>NaN</td>\n    </tr>\n    <tr>\n      <th>24236805</th>\n      <td>1632182400</td>\n      <td>11</td>\n      <td>48.0</td>\n      <td>232.695000</td>\n      <td>232.800000</td>\n      <td>232.240000</td>\n      <td>232.275000</td>\n      <td>1.035123e+02</td>\n      <td>232.569697</td>\n      <td>NaN</td>\n    </tr>\n  </tbody>\n</table>\n<p>24236806 rows × 10 columns</p>\n</div>"
     },
     "execution_count": 3,
     "metadata": {},
     "output_type": "execute_result"
    }
   ],
   "source": [
    "asset_details = pd.read_csv(data_folder + 'asset_details.csv')\n",
    "train = pd.read_csv(data_folder + 'train.csv')\n",
    "train"
   ],
   "metadata": {
    "collapsed": false,
    "pycharm": {
     "name": "#%%\n"
    }
   }
  },
  {
   "cell_type": "code",
   "execution_count": 4,
   "metadata": {},
   "outputs": [],
   "source": [
    "def collect_close_data(asset_id, data = train):\n",
    "    df = data[data['Asset_ID'] == asset_id].reset_index(drop = True)\n",
    "    df['timestamp'] = pd.to_datetime(df['timestamp'], unit='s')\n",
    "    df = df.set_index('timestamp')\n",
    "    asset_name = asset_details.loc[asset_details['Asset_ID'] == asset_id]['Asset_Name'].values[0]\n",
    "    df['Close'] = df['Close'] / df['Close'][0]\n",
    "    df = df.rename(columns = { 'Close': asset_name })\n",
    "    return pd.DataFrame(df[asset_name])"
   ]
  },
  {
   "cell_type": "code",
   "execution_count": 5,
   "metadata": {},
   "outputs": [
    {
     "data": {
      "text/plain": "                     Bitcoin Cash  Binance Coin   Bitcoin    EOS.IO  \\\ntimestamp                                                             \n2018-01-01 00:01:00      1.000000      1.000000  1.000000  1.000000   \n2018-01-01 00:02:00      0.999030      0.998183  0.998406  0.999882   \n2018-01-01 00:03:00      0.998936      0.994701  0.996472  0.999164   \n2018-01-01 00:04:00      0.998306      0.996589  0.994070  0.997153   \n2018-01-01 00:05:00      0.998140      0.991325  0.990956  0.993784   \n...                           ...           ...       ...       ...   \n2021-09-20 23:56:00      0.228209     42.546073  3.097362  0.546910   \n2021-09-20 23:57:00      0.226856     42.461899  3.094546  0.545754   \n2021-09-20 23:58:00      0.226892     42.421805  3.092164  0.545306   \n2021-09-20 23:59:00      0.228466     42.686342  3.105901  0.548309   \n2021-09-21 00:00:00      0.227848     42.644490  3.104835  0.547918   \n\n                     Ethereum Classic  Ethereum  Litecoin    Monero      TRON  \\\ntimestamp                                                                       \n2018-01-01 00:01:00          1.000000  1.000000  1.000000  1.000000       NaN   \n2018-01-01 00:02:00          1.000773  0.999665  0.998446  0.999970       NaN   \n2018-01-01 00:03:00          1.022897  0.998639  1.003523  0.999180       NaN   \n2018-01-01 00:04:00          1.022124  0.998098  0.995863  0.996054       NaN   \n2018-01-01 00:05:00          1.021641  0.996205  0.993843  0.993838       NaN   \n...                               ...       ...       ...       ...       ...   \n2021-09-20 23:56:00          1.896747  4.014464  0.697531  0.704152  2.482215   \n2021-09-20 23:57:00          1.888877  4.009229  0.694812  0.701997  2.472456   \n2021-09-20 23:58:00          1.886879  4.004561  0.694091  0.701610  2.472354   \n2021-09-20 23:59:00          1.896598  4.031361  0.698137  0.704966  2.485050   \n2021-09-21 00:00:00          1.896207  4.025150  0.696888  0.705017  2.485680   \n\n                      Stellar   Cardano      IOTA     Maker   Dogecoin  \ntimestamp                                                               \n2018-01-01 00:01:00       NaN       NaN       NaN       NaN        NaN  \n2018-01-01 00:02:00       NaN       NaN       NaN       NaN        NaN  \n2018-01-01 00:03:00       NaN       NaN       NaN       NaN        NaN  \n2018-01-01 00:04:00       NaN       NaN       NaN       NaN        NaN  \n2018-01-01 00:05:00       NaN       NaN       NaN       NaN        NaN  \n...                       ...       ...       ...       ...        ...  \n2021-09-20 23:56:00  0.782773  7.951412  0.565820  2.052312  74.754811  \n2021-09-20 23:57:00  0.780625  7.946560  0.564273  2.046901  74.565838  \n2021-09-20 23:58:00  0.778987  7.941926  0.563411  2.048318  74.521441  \n2021-09-20 23:59:00  0.783549  8.001295  0.567631  2.060620  75.178829  \n2021-09-21 00:00:00  0.783474  7.997187  0.566748  2.058297  75.060991  \n\n[1956782 rows x 14 columns]",
      "text/html": "<div>\n<style scoped>\n    .dataframe tbody tr th:only-of-type {\n        vertical-align: middle;\n    }\n\n    .dataframe tbody tr th {\n        vertical-align: top;\n    }\n\n    .dataframe thead th {\n        text-align: right;\n    }\n</style>\n<table border=\"1\" class=\"dataframe\">\n  <thead>\n    <tr style=\"text-align: right;\">\n      <th></th>\n      <th>Bitcoin Cash</th>\n      <th>Binance Coin</th>\n      <th>Bitcoin</th>\n      <th>EOS.IO</th>\n      <th>Ethereum Classic</th>\n      <th>Ethereum</th>\n      <th>Litecoin</th>\n      <th>Monero</th>\n      <th>TRON</th>\n      <th>Stellar</th>\n      <th>Cardano</th>\n      <th>IOTA</th>\n      <th>Maker</th>\n      <th>Dogecoin</th>\n    </tr>\n    <tr>\n      <th>timestamp</th>\n      <th></th>\n      <th></th>\n      <th></th>\n      <th></th>\n      <th></th>\n      <th></th>\n      <th></th>\n      <th></th>\n      <th></th>\n      <th></th>\n      <th></th>\n      <th></th>\n      <th></th>\n      <th></th>\n    </tr>\n  </thead>\n  <tbody>\n    <tr>\n      <th>2018-01-01 00:01:00</th>\n      <td>1.000000</td>\n      <td>1.000000</td>\n      <td>1.000000</td>\n      <td>1.000000</td>\n      <td>1.000000</td>\n      <td>1.000000</td>\n      <td>1.000000</td>\n      <td>1.000000</td>\n      <td>NaN</td>\n      <td>NaN</td>\n      <td>NaN</td>\n      <td>NaN</td>\n      <td>NaN</td>\n      <td>NaN</td>\n    </tr>\n    <tr>\n      <th>2018-01-01 00:02:00</th>\n      <td>0.999030</td>\n      <td>0.998183</td>\n      <td>0.998406</td>\n      <td>0.999882</td>\n      <td>1.000773</td>\n      <td>0.999665</td>\n      <td>0.998446</td>\n      <td>0.999970</td>\n      <td>NaN</td>\n      <td>NaN</td>\n      <td>NaN</td>\n      <td>NaN</td>\n      <td>NaN</td>\n      <td>NaN</td>\n    </tr>\n    <tr>\n      <th>2018-01-01 00:03:00</th>\n      <td>0.998936</td>\n      <td>0.994701</td>\n      <td>0.996472</td>\n      <td>0.999164</td>\n      <td>1.022897</td>\n      <td>0.998639</td>\n      <td>1.003523</td>\n      <td>0.999180</td>\n      <td>NaN</td>\n      <td>NaN</td>\n      <td>NaN</td>\n      <td>NaN</td>\n      <td>NaN</td>\n      <td>NaN</td>\n    </tr>\n    <tr>\n      <th>2018-01-01 00:04:00</th>\n      <td>0.998306</td>\n      <td>0.996589</td>\n      <td>0.994070</td>\n      <td>0.997153</td>\n      <td>1.022124</td>\n      <td>0.998098</td>\n      <td>0.995863</td>\n      <td>0.996054</td>\n      <td>NaN</td>\n      <td>NaN</td>\n      <td>NaN</td>\n      <td>NaN</td>\n      <td>NaN</td>\n      <td>NaN</td>\n    </tr>\n    <tr>\n      <th>2018-01-01 00:05:00</th>\n      <td>0.998140</td>\n      <td>0.991325</td>\n      <td>0.990956</td>\n      <td>0.993784</td>\n      <td>1.021641</td>\n      <td>0.996205</td>\n      <td>0.993843</td>\n      <td>0.993838</td>\n      <td>NaN</td>\n      <td>NaN</td>\n      <td>NaN</td>\n      <td>NaN</td>\n      <td>NaN</td>\n      <td>NaN</td>\n    </tr>\n    <tr>\n      <th>...</th>\n      <td>...</td>\n      <td>...</td>\n      <td>...</td>\n      <td>...</td>\n      <td>...</td>\n      <td>...</td>\n      <td>...</td>\n      <td>...</td>\n      <td>...</td>\n      <td>...</td>\n      <td>...</td>\n      <td>...</td>\n      <td>...</td>\n      <td>...</td>\n    </tr>\n    <tr>\n      <th>2021-09-20 23:56:00</th>\n      <td>0.228209</td>\n      <td>42.546073</td>\n      <td>3.097362</td>\n      <td>0.546910</td>\n      <td>1.896747</td>\n      <td>4.014464</td>\n      <td>0.697531</td>\n      <td>0.704152</td>\n      <td>2.482215</td>\n      <td>0.782773</td>\n      <td>7.951412</td>\n      <td>0.565820</td>\n      <td>2.052312</td>\n      <td>74.754811</td>\n    </tr>\n    <tr>\n      <th>2021-09-20 23:57:00</th>\n      <td>0.226856</td>\n      <td>42.461899</td>\n      <td>3.094546</td>\n      <td>0.545754</td>\n      <td>1.888877</td>\n      <td>4.009229</td>\n      <td>0.694812</td>\n      <td>0.701997</td>\n      <td>2.472456</td>\n      <td>0.780625</td>\n      <td>7.946560</td>\n      <td>0.564273</td>\n      <td>2.046901</td>\n      <td>74.565838</td>\n    </tr>\n    <tr>\n      <th>2021-09-20 23:58:00</th>\n      <td>0.226892</td>\n      <td>42.421805</td>\n      <td>3.092164</td>\n      <td>0.545306</td>\n      <td>1.886879</td>\n      <td>4.004561</td>\n      <td>0.694091</td>\n      <td>0.701610</td>\n      <td>2.472354</td>\n      <td>0.778987</td>\n      <td>7.941926</td>\n      <td>0.563411</td>\n      <td>2.048318</td>\n      <td>74.521441</td>\n    </tr>\n    <tr>\n      <th>2021-09-20 23:59:00</th>\n      <td>0.228466</td>\n      <td>42.686342</td>\n      <td>3.105901</td>\n      <td>0.548309</td>\n      <td>1.896598</td>\n      <td>4.031361</td>\n      <td>0.698137</td>\n      <td>0.704966</td>\n      <td>2.485050</td>\n      <td>0.783549</td>\n      <td>8.001295</td>\n      <td>0.567631</td>\n      <td>2.060620</td>\n      <td>75.178829</td>\n    </tr>\n    <tr>\n      <th>2021-09-21 00:00:00</th>\n      <td>0.227848</td>\n      <td>42.644490</td>\n      <td>3.104835</td>\n      <td>0.547918</td>\n      <td>1.896207</td>\n      <td>4.025150</td>\n      <td>0.696888</td>\n      <td>0.705017</td>\n      <td>2.485680</td>\n      <td>0.783474</td>\n      <td>7.997187</td>\n      <td>0.566748</td>\n      <td>2.058297</td>\n      <td>75.060991</td>\n    </tr>\n  </tbody>\n</table>\n<p>1956782 rows × 14 columns</p>\n</div>"
     },
     "execution_count": 5,
     "metadata": {},
     "output_type": "execute_result"
    }
   ],
   "source": [
    "data = []\n",
    "for i in asset_details['Asset_ID'].to_numpy():\n",
    "    data.append(collect_close_data(asset_id=i))\n",
    "    \n",
    "data_close = pd.concat(data, axis = 1)\n",
    "data_close"
   ]
  },
  {
   "cell_type": "code",
   "execution_count": 6,
   "metadata": {
    "pycharm": {
     "name": "#%%\n"
    }
   },
   "outputs": [],
   "source": [
    "btc_close_month = data_close['Bitcoin'].tail(43200)\n",
    "btc_close_hour = data_close['Bitcoin'].tail(60)\n",
    "btc_close_day = data_close['Bitcoin'].tail(1440)"
   ]
  },
  {
   "cell_type": "code",
   "execution_count": 7,
   "outputs": [
    {
     "data": {
      "text/plain": "<AxesSubplot:xlabel='timestamp'>"
     },
     "execution_count": 7,
     "metadata": {},
     "output_type": "execute_result"
    },
    {
     "data": {
      "text/plain": "<Figure size 432x288 with 1 Axes>",
      "image/png": "[encoded data removed]"
     },
     "metadata": {
      "needs_background": "light"
     },
     "output_type": "display_data"
    }
   ],
   "source": [
    "diff = btc_close_day.diff(periods=1)\n",
    "diff = diff.dropna()\n",
    "diff.plot()"
   ],
   "metadata": {
    "collapsed": false,
    "pycharm": {
     "name": "#%%\n"
    }
   }
  },
  {
   "cell_type": "code",
   "execution_count": 8,
   "outputs": [
    {
     "data": {
      "text/plain": "<Figure size 432x288 with 1 Axes>",
      "image/png": "[encoded data removed]"
     },
     "metadata": {
      "needs_background": "light"
     },
     "output_type": "display_data"
    }
   ],
   "source": [
    "from statsmodels.graphics.tsaplots import plot_acf\n",
    "\n",
    "p = plot_acf(btc_close_month)"
   ],
   "metadata": {
    "collapsed": false,
    "pycharm": {
     "name": "#%%\n"
    }
   }
  },
  {
   "cell_type": "code",
   "execution_count": 9,
   "outputs": [],
   "source": [
    "from sklearn.model_selection import train_test_split\n",
    "\n",
    "X = btc_close_month.values\n",
    "btc_train, btc_test = train_test_split(X, test_size=0.1)"
   ],
   "metadata": {
    "collapsed": false,
    "pycharm": {
     "name": "#%%\n"
    }
   }
  },
  {
   "cell_type": "code",
   "execution_count": 10,
   "outputs": [
    {
     "data": {
      "text/plain": "<class 'statsmodels.iolib.summary.Summary'>\n\"\"\"\n                               SARIMAX Results                                \n==============================================================================\nDep. Variable:                      y   No. Observations:                38880\nModel:                 ARIMA(1, 1, 1)   Log Likelihood               22967.428\nDate:                Fri, 18 Mar 2022   AIC                         -45928.855\nTime:                        09:36:29   BIC                         -45903.151\nSample:                             0   HQIC                        -45920.708\n                              - 38880                                         \nCovariance Type:                  opg                                         \n==============================================================================\n                 coef    std err          z      P>|z|      [0.025      0.975]\n------------------------------------------------------------------------------\nar.L1         -0.0046      0.005     -0.909      0.363      -0.015       0.005\nma.L1         -1.0000      0.002   -479.446      0.000      -1.004      -0.996\nsigma2         0.0180      0.000    127.665      0.000       0.018       0.018\n===================================================================================\nLjung-Box (L1) (Q):                   0.00   Jarque-Bera (JB):                94.73\nProb(Q):                              0.98   Prob(JB):                         0.00\nHeteroskedasticity (H):               1.00   Skew:                             0.08\nProb(H) (two-sided):                  0.89   Kurtosis:                         2.82\n===================================================================================\n\nWarnings:\n[1] Covariance matrix calculated using the outer product of gradients (complex-step).\n\"\"\"",
      "text/html": "<table class=\"simpletable\">\n<caption>SARIMAX Results</caption>\n<tr>\n  <th>Dep. Variable:</th>           <td>y</td>        <th>  No. Observations:  </th>    <td>38880</td>  \n</tr>\n<tr>\n  <th>Model:</th>            <td>ARIMA(1, 1, 1)</td>  <th>  Log Likelihood     </th>  <td>22967.428</td>\n</tr>\n<tr>\n  <th>Date:</th>            <td>Fri, 18 Mar 2022</td> <th>  AIC                </th> <td>-45928.855</td>\n</tr>\n<tr>\n  <th>Time:</th>                <td>09:36:29</td>     <th>  BIC                </th> <td>-45903.151</td>\n</tr>\n<tr>\n  <th>Sample:</th>                  <td>0</td>        <th>  HQIC               </th> <td>-45920.708</td>\n</tr>\n<tr>\n  <th></th>                     <td> - 38880</td>     <th>                     </th>      <td> </td>    \n</tr>\n<tr>\n  <th>Covariance Type:</th>        <td>opg</td>       <th>                     </th>      <td> </td>    \n</tr>\n</table>\n<table class=\"simpletable\">\n<tr>\n     <td></td>       <th>coef</th>     <th>std err</th>      <th>z</th>      <th>P>|z|</th>  <th>[0.025</th>    <th>0.975]</th>  \n</tr>\n<tr>\n  <th>ar.L1</th>  <td>   -0.0046</td> <td>    0.005</td> <td>   -0.909</td> <td> 0.363</td> <td>   -0.015</td> <td>    0.005</td>\n</tr>\n<tr>\n  <th>ma.L1</th>  <td>   -1.0000</td> <td>    0.002</td> <td> -479.446</td> <td> 0.000</td> <td>   -1.004</td> <td>   -0.996</td>\n</tr>\n<tr>\n  <th>sigma2</th> <td>    0.0180</td> <td>    0.000</td> <td>  127.665</td> <td> 0.000</td> <td>    0.018</td> <td>    0.018</td>\n</tr>\n</table>\n<table class=\"simpletable\">\n<tr>\n  <th>Ljung-Box (L1) (Q):</th>     <td>0.00</td> <th>  Jarque-Bera (JB):  </th> <td>94.73</td>\n</tr>\n<tr>\n  <th>Prob(Q):</th>                <td>0.98</td> <th>  Prob(JB):          </th> <td>0.00</td> \n</tr>\n<tr>\n  <th>Heteroskedasticity (H):</th> <td>1.00</td> <th>  Skew:              </th> <td>0.08</td> \n</tr>\n<tr>\n  <th>Prob(H) (two-sided):</th>    <td>0.89</td> <th>  Kurtosis:          </th> <td>2.82</td> \n</tr>\n</table><br/><br/>Warnings:<br/>[1] Covariance matrix calculated using the outer product of gradients (complex-step)."
     },
     "execution_count": 10,
     "metadata": {},
     "output_type": "execute_result"
    }
   ],
   "source": [
    "from statsmodels.tsa.arima.model import ARIMA\n",
    "import itertools\n",
    "\n",
    "model = ARIMA(btc_train, order=(1,1,1))\n",
    "arima_result = model.fit()\n",
    "arima_result.summary()"
   ],
   "metadata": {
    "collapsed": false,
    "pycharm": {
     "name": "#%%\n"
    }
   }
  },
  {
   "cell_type": "code",
   "execution_count": null,
   "outputs": [
    {
     "name": "stderr",
     "output_type": "stream",
     "text": [
      "C:\\Users\\Crews\\anaconda3\\lib\\site-packages\\statsmodels\\tsa\\statespace\\sarimax.py:966: UserWarning: Non-stationary starting autoregressive parameters found. Using zeros as starting parameters.\n",
      "  warn('Non-stationary starting autoregressive parameters'\n",
      "C:\\Users\\Crews\\anaconda3\\lib\\site-packages\\statsmodels\\tsa\\statespace\\sarimax.py:978: UserWarning: Non-invertible starting MA parameters found. Using zeros as starting parameters.\n",
      "  warn('Non-invertible starting MA parameters found.'\n",
      "C:\\Users\\Crews\\anaconda3\\lib\\site-packages\\statsmodels\\base\\model.py:566: ConvergenceWarning: Maximum Likelihood optimization failed to converge. Check mle_retvals\n",
      "  warnings.warn(\"Maximum Likelihood optimization failed to \"\n",
      "C:\\Users\\Crews\\anaconda3\\lib\\site-packages\\statsmodels\\base\\model.py:566: ConvergenceWarning: Maximum Likelihood optimization failed to converge. Check mle_retvals\n",
      "  warnings.warn(\"Maximum Likelihood optimization failed to \"\n"
     ]
    }
   ],
   "source": [
    "p = q = range(1,5)\n",
    "d = range(1,2)\n",
    "pdq = list(itertools.product(p,d,q))\n",
    "\n",
    "results = []\n",
    "best_aic = float(\"inf\")\n",
    "\n",
    "for param in pdq:\n",
    "    try:\n",
    "        model = ARIMA(btc_train, order=param)\n",
    "        arima_result = model.fit()\n",
    "    except ValueError:\n",
    "        print('bad parameter combination:', param)\n",
    "        continue\n",
    "    aic = arima_result.aic\n",
    "    if aic < best_aic:\n",
    "        best_model = arima_result\n",
    "        best_aic = aic\n",
    "        best_param = param\n",
    "    results.append([param, arima_result.aic])"
   ],
   "metadata": {
    "collapsed": false,
    "pycharm": {
     "name": "#%%\n",
     "is_executing": true
    }
   }
  },
  {
   "cell_type": "code",
   "execution_count": null,
   "outputs": [],
   "source": [
    "result_table = pd.DataFrame(results)\n",
    "result_table.columns = ['parameters', 'aic']\n",
    "print(result_table.sort_values(by = 'aic', ascending=True).head())\n",
    "print(best_model.summary())\n",
    "# Compare RMSE\n",
    "# https://www.kaggle.com/neomatrix369/everything-you-can-do-with-a-time-series-cryptos\n",
    "# https://www.kaggle.com/iamleonie/time-series-interpreting-acf-and-pacf"
   ],
   "metadata": {
    "collapsed": false,
    "pycharm": {
     "name": "#%%\n",
     "is_executing": true
    }
   }
  }
 ],
 "metadata": {
  "kernelspec": {
   "display_name": "Python 3",
   "language": "python",
   "name": "python3"
  },
  "language_info": {
   "codemirror_mode": {
    "name": "ipython",
    "version": 3
   },
   "file_extension": ".py",
   "mimetype": "text/x-python",
   "name": "python",
   "nbconvert_exporter": "python",
   "pygments_lexer": "ipython3",
   "version": "3.8.3"
  }
 },
 "nbformat": 4,
 "nbformat_minor": 4
}